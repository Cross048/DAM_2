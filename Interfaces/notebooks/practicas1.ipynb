{
 "cells": [
  {
   "cell_type": "markdown",
   "id": "0df6c683-5a7d-477b-9331-d0afde510383",
   "metadata": {},
   "source": [
    "## <b> Bloque 1 de ejercicios Python </b>\n",
    "---"
   ]
  },
  {
   "cell_type": "raw",
   "id": "f403263d-7a87-47da-8929-61cde57f5626",
   "metadata": {},
   "source": [
    "1. Escribir un programa que almacene la cadena \"¡Hola Mundo!\" en una variable y luego muestre por pantalla el contenido de la variable."
   ]
  },
  {
   "cell_type": "code",
   "execution_count": 1,
   "id": "8a18bfef-8efe-401f-b953-53e4801e399d",
   "metadata": {
    "tags": []
   },
   "outputs": [
    {
     "name": "stdout",
     "output_type": "stream",
     "text": [
      "Hola Mundo...\n"
     ]
    }
   ],
   "source": [
    "var = \"Hola Mundo...\"\n",
    "print(var)"
   ]
  },
  {
   "cell_type": "raw",
   "id": "a5fb3754-cb12-48e4-9bdd-4885cd7cd5c3",
   "metadata": {},
   "source": [
    "2. Escriba un programa que solicite al usuario la número de horas trabajadas y el coste por hora en € con dos decimales Luego debería mostrar el pago en la pantalla que le corresponde en la misma condición."
   ]
  },
  {
   "cell_type": "code",
   "execution_count": 4,
   "id": "b1fa2d52-abee-443b-830f-39fc8c246ff9",
   "metadata": {
    "tags": []
   },
   "outputs": [
    {
     "name": "stdin",
     "output_type": "stream",
     "text": [
      "Indique el número de horas trabajadas por el empleado:  12\n",
      "Indique el coste por hora (0.00):  16.50\n"
     ]
    },
    {
     "name": "stdout",
     "output_type": "stream",
     "text": [
      "El coste de horas extras es de:  198.0 €\n"
     ]
    }
   ],
   "source": [
    "horas = input('Indique el número de horas trabajadas por el empleado: ')\n",
    "coste = input('Indique el coste por hora (0.00): ')\n",
    "total = float(horas)*float(coste)\n",
    "print('El coste de horas extras es de: ', round(float(total),2), '€')"
   ]
  },
  {
   "cell_type": "raw",
   "id": "33e7a667-2a0d-43ef-8dd6-29fe259b01a0",
   "metadata": {},
   "source": [
    "3. Dada una cifra en segundos haz una transformación en horas, minutos y segundos.\n",
    "Repetir el ejercicio de forma inversa, dada una figura en horas, minutos y segundos, transformarse en segundos."
   ]
  },
  {
   "cell_type": "code",
   "execution_count": 17,
   "id": "fe600cae-fd3c-4e64-b045-1b81873cf76f",
   "metadata": {
    "tags": []
   },
   "outputs": [
    {
     "name": "stdin",
     "output_type": "stream",
     "text": [
      "Introduzca una cifra en segundos:  10000\n"
     ]
    },
    {
     "name": "stdout",
     "output_type": "stream",
     "text": [
      "Horas:  2 , Minutos:  46  y Segundos:  40.0\n"
     ]
    }
   ],
   "source": [
    "segundos = input('Introduzca una cifra en segundos: ')\n",
    "minutos, segundos = divmod(float(segundos),60)\n",
    "horas, minutos = divmod(float(minutos),60)\n",
    "print('Horas: ', round(horas), ', Minutos: ', round(minutos), ' y Segundos: ', segundos)"
   ]
  },
  {
   "cell_type": "code",
   "execution_count": 11,
   "id": "19c5ed2c-3143-4520-9fb0-e60301a36879",
   "metadata": {
    "tags": []
   },
   "outputs": [
    {
     "name": "stdin",
     "output_type": "stream",
     "text": [
      "Indique el número de horas:  1\n",
      "Indique los minutos:  1\n",
      "Indique los segundos:  1\n"
     ]
    },
    {
     "name": "stdout",
     "output_type": "stream",
     "text": [
      "La cantidad de segundos es:  3661.0\n"
     ]
    }
   ],
   "source": [
    "horas = input('Indique el número de horas: ')\n",
    "minutos = input('Indique los minutos: ')\n",
    "segundos = input('Indique los segundos: ')\n",
    "print('La cantidad de segundos es: ', (float(horas)*60*60)+(float(minutos)*60)+float(segundos))"
   ]
  },
  {
   "cell_type": "raw",
   "id": "696d99bd-6d34-48bc-b3a7-516848e022d2",
   "metadata": {},
   "source": [
    "4. Escribe un programa que pregunte al usuario su peso (en kg) y altura (en metros), calcular el índice de masa cuerpo y guárdelo en una variable <imc> que muestra por pantalla la frase:\n",
    "Tu índice de masa corporal es <imc>, con dos decimales.\n",
    "\n",
    "Fórmula: IMC = peso/altura2"
   ]
  },
  {
   "cell_type": "code",
   "execution_count": null,
   "id": "0585c85b-8e7d-4e04-bfd4-c21ad789d2b0",
   "metadata": {
    "tags": []
   },
   "outputs": [
    {
     "name": "stdin",
     "output_type": "stream",
     "text": [
      "Introduce peso (kg):  60\n"
     ]
    }
   ],
   "source": [
    "peso = input('Introduce peso (kg): ')\n",
    "altura = input('Introduce altura (m): ')\n",
    "imc = float(peso)/(float(altura)*float(altura))\n",
    "print('Tu indice de masa corporal es ', round(imc,2))"
   ]
  },
  {
   "cell_type": "code",
   "execution_count": null,
   "id": "5fe37e41-b202-4903-ab4e-8b08aeb91131",
   "metadata": {},
   "outputs": [],
   "source": []
  }
 ],
 "metadata": {
  "kernelspec": {
   "display_name": "Python 3 (ipykernel)",
   "language": "python",
   "name": "python3"
  },
  "language_info": {
   "codemirror_mode": {
    "name": "ipython",
    "version": 3
   },
   "file_extension": ".py",
   "mimetype": "text/x-python",
   "name": "python",
   "nbconvert_exporter": "python",
   "pygments_lexer": "ipython3",
   "version": "3.11.3"
  }
 },
 "nbformat": 4,
 "nbformat_minor": 5
}
