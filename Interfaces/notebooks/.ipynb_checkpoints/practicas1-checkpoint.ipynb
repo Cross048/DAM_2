{
 "cells": [
  {
   "cell_type": "markdown",
   "id": "0df6c683-5a7d-477b-9331-d0afde510383",
   "metadata": {},
   "source": [
    "## <b> Bloque 1 de ejercicios Python </b>\n",
    "---"
   ]
  },
  {
   "cell_type": "raw",
   "id": "f403263d-7a87-47da-8929-61cde57f5626",
   "metadata": {},
   "source": [
    "1. Escribir un programa que almacene la cadena \"¡Hola Mundo!\" en una variable y luego muestre por pantalla el contenido de la variable."
   ]
  },
  {
   "cell_type": "code",
   "execution_count": 1,
   "id": "8a18bfef-8efe-401f-b953-53e4801e399d",
   "metadata": {
    "tags": []
   },
   "outputs": [
    {
     "name": "stdout",
     "output_type": "stream",
     "text": [
      "Hola Mundo...\n"
     ]
    }
   ],
   "source": [
    "var = \"Hola Mundo...\"\n",
    "print(var)"
   ]
  },
  {
   "cell_type": "raw",
   "id": "a5fb3754-cb12-48e4-9bdd-4885cd7cd5c3",
   "metadata": {},
   "source": [
    "2. Escriba un programa que solicite al usuario la número de horas trabajadas y el coste por hora en € con dos decimales Luego debería mostrar el pago en la pantalla que le corresponde en la misma condición."
   ]
  },
  {
   "cell_type": "code",
   "execution_count": 4,
   "id": "b1fa2d52-abee-443b-830f-39fc8c246ff9",
   "metadata": {
    "tags": []
   },
   "outputs": [
    {
     "name": "stdin",
     "output_type": "stream",
     "text": [
      "Indique el número de horas trabajadas por el empleado:  12\n",
      "Indique el coste por hora (0.00):  16.50\n"
     ]
    },
    {
     "name": "stdout",
     "output_type": "stream",
     "text": [
      "El coste de horas extras es de:  198.0 €\n"
     ]
    }
   ],
   "source": [
    "horas = input('Indique el número de horas trabajadas por el empleado: ')\n",
    "coste = input('Indique el coste por hora (0.00): ')\n",
    "total = float(horas)*float(coste)\n",
    "print('El coste de horas extras es de: ', round(float(total),2), '€')"
   ]
  },
  {
   "cell_type": "raw",
   "id": "33e7a667-2a0d-43ef-8dd6-29fe259b01a0",
   "metadata": {},
   "source": [
    "3. Dada una cifra en segundos haz una transformación en horas, minutos y segundos.\n",
    "Repetir el ejercicio de forma inversa, dada una figura en horas, minutos y segundos, transformarse en segundos."
   ]
  },
  {
   "cell_type": "code",
   "execution_count": 20,
   "id": "fe600cae-fd3c-4e64-b045-1b81873cf76f",
   "metadata": {
    "tags": []
   },
   "outputs": [
    {
     "name": "stdin",
     "output_type": "stream",
     "text": [
      "Introduzca una cifra en segundos:  6000\n"
     ]
    },
    {
     "name": "stdout",
     "output_type": "stream",
     "text": [
      "Horas:  1 , Minutos:  40  y Segundos:  0\n"
     ]
    }
   ],
   "source": [
    "segundos = input('Introduzca una cifra en segundos: ')\n",
    "minutos, segundos = divmod(float(segundos),60)\n",
    "horas, minutos = divmod(float(minutos),60)\n",
    "print('Horas: ', round(horas), ', Minutos: ', round(minutos), ' y Segundos: ', round(segundos))"
   ]
  },
  {
   "cell_type": "code",
   "execution_count": 11,
   "id": "19c5ed2c-3143-4520-9fb0-e60301a36879",
   "metadata": {
    "tags": []
   },
   "outputs": [
    {
     "name": "stdin",
     "output_type": "stream",
     "text": [
      "Indique el número de horas:  1\n",
      "Indique los minutos:  1\n",
      "Indique los segundos:  1\n"
     ]
    },
    {
     "name": "stdout",
     "output_type": "stream",
     "text": [
      "La cantidad de segundos es:  3661.0\n"
     ]
    }
   ],
   "source": [
    "horas = input('Indique el número de horas: ')\n",
    "minutos = input('Indique los minutos: ')\n",
    "segundos = input('Indique los segundos: ')\n",
    "print('La cantidad de segundos es: ', (float(horas)*60*60)+(float(minutos)*60)+float(segundos))"
   ]
  },
  {
   "cell_type": "raw",
   "id": "696d99bd-6d34-48bc-b3a7-516848e022d2",
   "metadata": {},
   "source": [
    "4. Escribe un programa que pregunte al usuario su peso (en kg) y altura (en metros), calcular el índice de masa cuerpo y guárdelo en una variable <imc> que muestra por pantalla la frase:\n",
    "Tu índice de masa corporal es <imc>, con dos decimales.\n",
    "\n",
    "Fórmula: IMC = peso/altura2"
   ]
  },
  {
   "cell_type": "code",
   "execution_count": 18,
   "id": "0585c85b-8e7d-4e04-bfd4-c21ad789d2b0",
   "metadata": {
    "tags": []
   },
   "outputs": [
    {
     "name": "stdin",
     "output_type": "stream",
     "text": [
      "Introduce peso (kg):  60\n",
      "Introduce altura (m):  1.7\n"
     ]
    },
    {
     "name": "stdout",
     "output_type": "stream",
     "text": [
      "Tu indice de masa corporal es  20.76\n"
     ]
    }
   ],
   "source": [
    "peso = input('Introduce peso (kg): ')\n",
    "altura = input('Introduce altura (m): ')\n",
    "imc = float(peso)/(float(altura)*float(altura))\n",
    "print('Tu indice de masa corporal es ', round(imc,2))"
   ]
  },
  {
   "cell_type": "raw",
   "id": "06cd83e3-076e-4ca4-9803-21e849a4fa57",
   "metadata": {},
   "source": [
    "5. Escribe un programa que solicite la fecha de nacimiento de un usuario y calcule su edad actual."
   ]
  },
  {
   "cell_type": "code",
   "execution_count": 10,
   "id": "59fba4f0-b31e-4721-9020-083c1a5a759e",
   "metadata": {},
   "outputs": [
    {
     "name": "stdin",
     "output_type": "stream",
     "text": [
      "Introduce fecha de cumpleaños (YYYY/MM/DD):  1998/4/12\n"
     ]
    },
    {
     "ename": "TypeError",
     "evalue": "unsupported operand type(s) for -: 'builtin_function_or_method' and 'datetime.datetime'",
     "output_type": "error",
     "traceback": [
      "\u001b[0;31m---------------------------------------------------------------------------\u001b[0m",
      "\u001b[0;31mTypeError\u001b[0m                                 Traceback (most recent call last)",
      "Cell \u001b[0;32mIn[10], line 6\u001b[0m\n\u001b[1;32m      4\u001b[0m fecha_cumple \u001b[38;5;241m=\u001b[39m datetime\u001b[38;5;241m.\u001b[39mdatetime\u001b[38;5;241m.\u001b[39mstrptime(fecha_cumple, \u001b[38;5;124m\"\u001b[39m\u001b[38;5;124m%\u001b[39m\u001b[38;5;124mY/\u001b[39m\u001b[38;5;124m%\u001b[39m\u001b[38;5;124mm/\u001b[39m\u001b[38;5;132;01m%d\u001b[39;00m\u001b[38;5;124m\"\u001b[39m)\n\u001b[1;32m      5\u001b[0m fecha_actual \u001b[38;5;241m=\u001b[39m datetime\u001b[38;5;241m.\u001b[39mdatetime\u001b[38;5;241m.\u001b[39mnow\n\u001b[0;32m----> 6\u001b[0m edad \u001b[38;5;241m=\u001b[39m fecha_actual\u001b[38;5;241m-\u001b[39mfecha_cumple\n\u001b[1;32m      7\u001b[0m edad \u001b[38;5;241m=\u001b[39m edad\u001b[38;5;241m.\u001b[39mdays\u001b[38;5;241m/\u001b[39m\u001b[38;5;241m/\u001b[39m\u001b[38;5;241m365\u001b[39m\n\u001b[1;32m      8\u001b[0m \u001b[38;5;28mprint\u001b[39m(\u001b[38;5;124m'\u001b[39m\u001b[38;5;124mTu edad es: \u001b[39m\u001b[38;5;124m'\u001b[39m, edad)\n",
      "\u001b[0;31mTypeError\u001b[0m: unsupported operand type(s) for -: 'builtin_function_or_method' and 'datetime.datetime'"
     ]
    }
   ],
   "source": [
    "import datetime\n",
    "\n",
    "fecha_cumple = input('Introduce fecha de cumpleaños (YYYY/MM/DD): ')\n",
    "fecha_cumple = datetime.datetime.strptime(fecha_cumple, \"%Y/%m/%d\")\n",
    "fecha_actual = datetime.datetime.now\n",
    "edad = fecha_actual-fecha_cumple\n",
    "edad = edad.days//365\n",
    "print('Tu edad es: ', edad)"
   ]
  },
  {
   "cell_type": "raw",
   "id": "a16eb0fb-6aad-45f7-91bc-5eb3f048bf5f",
   "metadata": {},
   "source": [
    "6. Dado el radio de una circunferencia calcula su perímetro y área.\n",
    "Usad función math para usar pi."
   ]
  },
  {
   "cell_type": "code",
   "execution_count": 7,
   "id": "df28cb74-d1a6-49a2-a154-19d8ce331aed",
   "metadata": {
    "tags": []
   },
   "outputs": [
    {
     "name": "stdin",
     "output_type": "stream",
     "text": [
      "Introduce radio 3\n"
     ]
    },
    {
     "name": "stdout",
     "output_type": "stream",
     "text": [
      "28.274333882308138\n"
     ]
    }
   ],
   "source": [
    "import math\n",
    "\n",
    "radio = input('Introduce radio')\n",
    "area = math.pi*float(radio)*float(radio)\n",
    "print(area)"
   ]
  },
  {
   "cell_type": "raw",
   "id": "542179dd-6a58-484b-966f-2c910b434952",
   "metadata": {},
   "source": [
    "7. Introduzca una palabra de más de 9 letras por teclado e imprima:\n",
    "- las tres primeras letras\n",
    "- las tres últimas letras\n",
    "- las situadas entre la 4º y 7º posición"
   ]
  },
  {
   "cell_type": "code",
   "execution_count": 14,
   "id": "e7870f3b-73d6-4ae7-adc0-80a02b1053da",
   "metadata": {
    "tags": []
   },
   "outputs": [
    {
     "name": "stdin",
     "output_type": "stream",
     "text": [
      "Introduce palabra de más de 9 letras:  abcdefghi\n"
     ]
    },
    {
     "name": "stdout",
     "output_type": "stream",
     "text": [
      "- Las tres primeras letras:  abc\n",
      "- Las tres últimas letras:  ghi\n",
      "- Las situadas entre la 4º y 7º posición:  efg\n"
     ]
    }
   ],
   "source": [
    "palabra = input('Introduce palabra de más de 9 letras: ')\n",
    "if len(palabra)>=9:\n",
    "    print('- Las tres primeras letras: ', palabra[:3])\n",
    "    print('- Las tres últimas letras: ', palabra[-3:])\n",
    "    print('- Las situadas entre la 4º y 7º posición: ', palabra[4:7])\n",
    "else:\n",
    "    print('La palabra no alcanza las 9 letras')"
   ]
  },
  {
   "cell_type": "raw",
   "id": "1e9bb2d1-aa66-4e1d-962f-e42169c463e6",
   "metadata": {},
   "source": [
    "8. Una juguetería tiene mucho éxito en dos de sus productos: payasos y muñecos. Suelen hacer pedidos por correo y la empresa de logística les cobra por el peso de cada paquete por lo que deben calcular el peso de los payasos y muñecos que saldrán en cada paquete según demanda. Cada payaso pesa 112g y cada muñeco pesa 75g.\n",
    "Escribe unn programa que lea el número de payasos y muñecos vendidos en el último pedido y calcule el peso total en kg del paquete que se enviará y el precio siendo la tarifa de 3,5€/kg."
   ]
  },
  {
   "cell_type": "code",
   "execution_count": 20,
   "id": "f290870a-54c8-498c-931f-f6011d888029",
   "metadata": {
    "tags": []
   },
   "outputs": [
    {
     "name": "stdin",
     "output_type": "stream",
     "text": [
      "Introduce cantidad de payasos: 10\n",
      "Introduce cantidad de muñecos: 10\n"
     ]
    },
    {
     "name": "stdout",
     "output_type": "stream",
     "text": [
      "Peso total: 1.87 kg\n",
      "Precio: 6.545 €\n"
     ]
    }
   ],
   "source": [
    "payaso = 112\n",
    "munyeco = 75\n",
    "tarifa = 3.5\n",
    "num_payasos = input('Introduce cantidad de payasos:')\n",
    "num_munyecos = input('Introduce cantidad de muñecos:')\n",
    "peso_total = (float(num_payasos)*payaso)+(float(num_munyecos)*munyeco)\n",
    "peso_kg = float(peso_total)/1000\n",
    "precio = peso_kg*tarifa\n",
    "print('Peso total:', peso_kg, 'kg')\n",
    "print('Precio:', precio, '€')"
   ]
  },
  {
   "cell_type": "code",
   "execution_count": null,
   "id": "6e84927c-47a2-4ec5-b211-8d0c6ffd48c8",
   "metadata": {},
   "outputs": [],
   "source": []
  }
 ],
 "metadata": {
  "kernelspec": {
   "display_name": "Python 3 (ipykernel)",
   "language": "python",
   "name": "python3"
  },
  "language_info": {
   "codemirror_mode": {
    "name": "ipython",
    "version": 3
   },
   "file_extension": ".py",
   "mimetype": "text/x-python",
   "name": "python",
   "nbconvert_exporter": "python",
   "pygments_lexer": "ipython3",
   "version": "3.11.3"
  }
 },
 "nbformat": 4,
 "nbformat_minor": 5
}
