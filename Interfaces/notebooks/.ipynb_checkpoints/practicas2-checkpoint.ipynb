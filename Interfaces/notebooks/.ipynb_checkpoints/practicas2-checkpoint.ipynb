{
 "cells": [
  {
   "cell_type": "markdown",
   "id": "95e426f5-af26-4cb7-8866-415af69b1eda",
   "metadata": {},
   "source": [
    "## <b> Bloque 2 de ejercicios Python </b>\n",
    "---"
   ]
  },
  {
   "cell_type": "raw",
   "id": "f6c0f4a9-ff97-4499-8570-4c1c71276864",
   "metadata": {},
   "source": [
    "1. La conjetura de Collatz indica que cualquier número natural puede transformarse en 1 aplicando los pasos siguientes:\n",
    "si és par, dividir por 2, si és impar multiplicar por 3 y sumarle 1.\n",
    "Codifica un programa que pidiendo un número muestre toda la sucesión de números resultantes hasta convertirlo en 1."
   ]
  },
  {
   "cell_type": "code",
   "execution_count": 6,
   "id": "8f7cc990-191c-4210-82b9-52d20a759889",
   "metadata": {
    "tags": []
   },
   "outputs": [
    {
     "name": "stdin",
     "output_type": "stream",
     "text": [
      "Introduce número: 10\n"
     ]
    },
    {
     "name": "stdout",
     "output_type": "stream",
     "text": [
      "5\n",
      "16\n",
      "8\n",
      "4\n",
      "2\n",
      "1\n"
     ]
    }
   ],
   "source": [
    "num = input('Introduce número:')\n",
    "while int(num) != 1:\n",
    "    if int(num) % 2 == 0:\n",
    "        num = int(num) / 2\n",
    "        print(round(num))\n",
    "    else:\n",
    "        num = int(num) * 3 + 1\n",
    "        print(round(num))"
   ]
  },
  {
   "cell_type": "raw",
   "id": "9d5d2cce-0f95-4575-a161-5a383c795c77",
   "metadata": {},
   "source": [
    "2. Mastermind és un juego que consiste en adivinar un número. \n",
    "Codifica un programa que genere un número entero aleatorio entre 1 y 100. A continuación iremos pidiendo que adivinemos el número.\n",
    "La ayuda del programa será que si nos equivocamos diremos que el número que indicamos és mayor o menor que el número aleatorio. Deberás incluir el número de intentos al final de la ejecución del programa. \n",
    "Además, proponer el programa para dos jugadores, y quién és el vencedor."
   ]
  },
  {
   "cell_type": "code",
   "execution_count": 16,
   "id": "7146e25d-4083-46f9-a8a1-b1a11b913d89",
   "metadata": {
    "tags": []
   },
   "outputs": [
    {
     "name": "stdout",
     "output_type": "stream",
     "text": [
      "Adivina el número\n"
     ]
    },
    {
     "name": "stdin",
     "output_type": "stream",
     "text": [
      "Jugador 1: 50\n"
     ]
    },
    {
     "name": "stdout",
     "output_type": "stream",
     "text": [
      "El número es más grande\n"
     ]
    },
    {
     "name": "stdin",
     "output_type": "stream",
     "text": [
      "Jugador 2: 75\n"
     ]
    },
    {
     "name": "stdout",
     "output_type": "stream",
     "text": [
      "El número es más grande\n"
     ]
    },
    {
     "name": "stdin",
     "output_type": "stream",
     "text": [
      "Jugador 1: 85\n"
     ]
    },
    {
     "name": "stdout",
     "output_type": "stream",
     "text": [
      "El número es más grande\n"
     ]
    },
    {
     "name": "stdin",
     "output_type": "stream",
     "text": [
      "Jugador 2: 90\n"
     ]
    },
    {
     "name": "stdout",
     "output_type": "stream",
     "text": [
      "El número es más pequeño\n"
     ]
    },
    {
     "name": "stdin",
     "output_type": "stream",
     "text": [
      "Jugador 1: 88\n"
     ]
    },
    {
     "name": "stdout",
     "output_type": "stream",
     "text": [
      "El número es más pequeño\n"
     ]
    },
    {
     "name": "stdin",
     "output_type": "stream",
     "text": [
      "Jugador 2: 87\n"
     ]
    },
    {
     "name": "stdout",
     "output_type": "stream",
     "text": [
      "El número es más pequeño\n"
     ]
    },
    {
     "name": "stdin",
     "output_type": "stream",
     "text": [
      "Jugador 1: 86\n"
     ]
    },
    {
     "name": "stdout",
     "output_type": "stream",
     "text": [
      "Lo conseguiste!\n",
      "\n",
      "Gana el jugador 1\n",
      "Número de intentos: 4\n"
     ]
    }
   ],
   "source": [
    "import random\n",
    "\n",
    "num = random.randint(1,100)\n",
    "fin = 0\n",
    "turno = 1\n",
    "intentos1 = 0\n",
    "intentos2 = 0\n",
    "\n",
    "print('Adivina el número')\n",
    "\n",
    "while fin == 0:\n",
    "    if turno % 2 == 0:\n",
    "        # Jugador 2\n",
    "        intentos2 += 1\n",
    "        p2 = input('Jugador 2:')\n",
    "        if int(p2) > num:\n",
    "            print('El número es más pequeño')\n",
    "        elif int(p2) < num:\n",
    "            print('El número es más grande')\n",
    "        else:\n",
    "            print('Lo conseguiste!')\n",
    "            print()\n",
    "            print('Gana el jugador 2')\n",
    "            print('Número de intentos:', intentos2)\n",
    "            fin = 1\n",
    "        turno += 1\n",
    "    else:\n",
    "        # Jugador 1\n",
    "        intentos1 += 1\n",
    "        p1 = input('Jugador 1:')\n",
    "        if int(p1) > num:\n",
    "            print('El número es más pequeño')\n",
    "        elif int(p1) < num:\n",
    "            print('El número es más grande')\n",
    "        else:\n",
    "            print('Lo conseguiste!')\n",
    "            print()\n",
    "            print('Gana el jugador 1')\n",
    "            print('Número de intentos:', intentos1)\n",
    "            fin = 1\n",
    "        turno += 1"
   ]
  },
  {
   "cell_type": "raw",
   "id": "7c963c81-c738-43c5-9842-1a75214cdd98",
   "metadata": {},
   "source": [
    "3. Codificar un programa que nos pida un valor de temperatura en una escala, por ejemplo, 273 grados en escala Kelvin y posteriormente transforme dicha temperatura en las otras escalas conocidas, en este caso sería en Fahrenheit y grados Centigrados. \n",
    "Las fórmulas necesarias son:\n",
    "    K = 273,1 + ºC\n",
    "    ºF = 1,4 · ºC + 32"
   ]
  },
  {
   "cell_type": "code",
   "execution_count": 31,
   "id": "3a824cb3-7919-40d7-a7b7-c52d818f0ae8",
   "metadata": {
    "tags": []
   },
   "outputs": [
    {
     "name": "stdin",
     "output_type": "stream",
     "text": [
      "Introduce cantidad de grados: 2000\n",
      "En qué escala está:\n",
      " 1. Kelvin\n",
      " 2. Celsius\n",
      " 3. Fahrenheit\n",
      " 1\n"
     ]
    },
    {
     "name": "stdout",
     "output_type": "stream",
     "text": [
      " 1726.9 ºC\n",
      " 2000.0 K\n",
      " 77365.12 ºF\n"
     ]
    }
   ],
   "source": [
    "grados = input('Introduce cantidad de grados:')\n",
    "escala = input('En qué escala está:\\n 1. Kelvin\\n 2. Celsius\\n 3. Fahrenheit\\n')\n",
    "\n",
    "if int(escala) == 1:\n",
    "    \n",
    "    # Kelvin\n",
    "    celsius = float(grados) - 273.1\n",
    "    fahrenheit = 1.4 * celsius * 32\n",
    "    print('', round(celsius,2), 'ºC\\n', round(float(grados),2), 'K\\n', round(fahrenheit,2), 'ºF')\n",
    "    \n",
    "elif int(escala) == 2:\n",
    "    \n",
    "    # Celsius\n",
    "    kelvin = 273.1 + float(grados)\n",
    "    fahrenheit = 1.4 * float(grados) + 32\n",
    "    print('', round(float(grados),2), 'ºC\\n', round(kelvin,2), 'K\\n', round(fahrenheit,2), 'ºF')\n",
    "    \n",
    "elif int(escala) == 3:\n",
    "    \n",
    "    # Fahrenheit\n",
    "    celsius = (float(grados) - 32) / 1.4\n",
    "    kelvin = 273.1 + celsius\n",
    "    print('', round(celsius,2), 'ºC\\n', round(kelvin,2), 'K\\n', round(float(grados),2), 'ºF')\n",
    "    \n",
    "else:\n",
    "    print('El tipo de escala elegido no és correcto')"
   ]
  },
  {
   "cell_type": "raw",
   "id": "8715974a-5458-48b6-b9ce-8514c03b109a",
   "metadata": {},
   "source": [
    "4. Codificar un programa que simule una partida de las 7:30 con la baraja española entre dos jugadores. Para ello, el programa sortearía un número aleatorio entre 1 y 10 para cada jugador, teniendo en cuenta que el 8, 9 y 10 simularán la sota, el caballo y el rey, respectivamente, que en el juego del 7 y medio son vale medio punto.\n",
    "Cada jugador podrá plantarse cuando quiera y ganará el que más se acerque al menor de 7 y medio.\n",
    "Por ejemplo:\n",
    "El jugador A tira el 4 y el 2 y la sota (8) tiene 6 y medio y se planta.\n",
    "El jugador B saca 4 y 5 y ya pierde porque pasó de 7 y medio.\n",
    "El jugador A gana.\n",
    "Cada juego terminado nos pregunta si queremos continuar o salir del juego."
   ]
  },
  {
   "cell_type": "code",
   "execution_count": null,
   "id": "b351ae47-9995-44eb-8812-a1363260a598",
   "metadata": {},
   "outputs": [],
   "source": []
  }
 ],
 "metadata": {
  "kernelspec": {
   "display_name": "Python 3 (ipykernel)",
   "language": "python",
   "name": "python3"
  },
  "language_info": {
   "codemirror_mode": {
    "name": "ipython",
    "version": 3
   },
   "file_extension": ".py",
   "mimetype": "text/x-python",
   "name": "python",
   "nbconvert_exporter": "python",
   "pygments_lexer": "ipython3",
   "version": "3.11.3"
  }
 },
 "nbformat": 4,
 "nbformat_minor": 5
}
