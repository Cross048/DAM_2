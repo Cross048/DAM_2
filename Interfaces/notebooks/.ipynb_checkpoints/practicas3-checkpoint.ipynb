{
 "cells": [
  {
   "cell_type": "markdown",
   "id": "9989a3ef-2c36-4fd3-a5ce-288e39468e5c",
   "metadata": {},
   "source": [
    "## <b>Listas, tuplas y diccionarios</b>\n",
    "---"
   ]
  },
  {
   "cell_type": "raw",
   "id": "c2178250-15a4-44aa-ac05-1a064dbf7186",
   "metadata": {},
   "source": [
    "1. Crea una lista de N elementos, dato que se pide por teclado, y a continuación llene de números enteros aleatorios entre 1 y 10.\n",
    "Posteriormente mostrar la lista y el número que más se repite."
   ]
  },
  {
   "cell_type": "code",
   "execution_count": 22,
   "id": "e35e40e4-9168-435b-83fc-460b0bc0de8c",
   "metadata": {
    "tags": []
   },
   "outputs": [
    {
     "name": "stdin",
     "output_type": "stream",
     "text": [
      "Indique cantidad de elementos: 20\n"
     ]
    },
    {
     "name": "stdout",
     "output_type": "stream",
     "text": [
      "[2, 5, 5, 2, 5, 6, 10, 1, 9, 1, 2, 3, 1, 9, 1, 9, 3, 7, 2, 1]\n",
      "Numero mas repetido: 1\n"
     ]
    }
   ],
   "source": [
    "import random\n",
    "\n",
    "lista = []\n",
    "\n",
    "n = input('Indique cantidad de elementos:')\n",
    "\n",
    "for i in range(int(n)):\n",
    "    num = random.randint(1,10)\n",
    "    lista.append(num)\n",
    "\n",
    "print(lista)\n",
    "\n",
    "mvp = max(lista, key = lista.count)\n",
    "\n",
    "print('Numero mas repetido:', mvp)"
   ]
  },
  {
   "cell_type": "raw",
   "id": "52942850-9705-41d4-8811-807891143328",
   "metadata": {},
   "source": []
  }
 ],
 "metadata": {
  "kernelspec": {
   "display_name": "Python 3 (ipykernel)",
   "language": "python",
   "name": "python3"
  },
  "language_info": {
   "codemirror_mode": {
    "name": "ipython",
    "version": 3
   },
   "file_extension": ".py",
   "mimetype": "text/x-python",
   "name": "python",
   "nbconvert_exporter": "python",
   "pygments_lexer": "ipython3",
   "version": "3.11.3"
  }
 },
 "nbformat": 4,
 "nbformat_minor": 5
}
