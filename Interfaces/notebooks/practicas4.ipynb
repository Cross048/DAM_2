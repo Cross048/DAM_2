{
 "cells": [
  {
   "cell_type": "markdown",
   "metadata": {},
   "source": [
    "## <b>Práctica 4</b>\n",
    "---"
   ]
  },
  {
   "cell_type": "raw",
   "metadata": {},
   "source": [
    "1. Diseña una agenda de contacto con una clase Contacto que represente a una persona con atributos como nombre, dirección de correo electrónico y número de teléfono.\n",
    "Luego, crea una clase Agenda que almacene una lista de contactos y ofrezca métodos para agregar, eliminar y buscar contactos. Utiliza encapsulamiento para proteger los datos de contacto.\n",
    "Establece un menú. Exporta cada contacto en un fichero .txt."
   ]
  },
  {
   "cell_type": "code",
   "execution_count": null,
   "metadata": {},
   "outputs": [],
   "source": []
  },
  {
   "cell_type": "raw",
   "metadata": {},
   "source": [
    "2. Crear un personaje que puede luchar contra enemigos. En este juego, el jugador tiene un personaje con estadísticas y puede elegir luchar contra enemigos aleatorios.\n",
    "El objetivo es derrotar a los enemigos y ganar experiencia. Este juego permite a un jugador controlar a un personaje que lucha contra enemigos aleatorios.\n",
    "El jugador puede atacar o huir durante los encuentros. El juego sigue hasta que el personaje o todos los enemigos sean derrotados. Si el personaje gana suficiente experiencia,\n",
    "se considera que ha ganado el juego. Puedes personalizar los nombres y las estadísticas de los personajes y enemigos para hacer el juego más interesante. "
   ]
  },
  {
   "cell_type": "code",
   "execution_count": 1,
   "metadata": {},
   "outputs": [
    {
     "ename": "NameError",
     "evalue": "name 'Personaje' is not defined",
     "output_type": "error",
     "traceback": [
      "\u001b[0;31m---------------------------------------------------------------------------\u001b[0m",
      "\u001b[0;31mNameError\u001b[0m                                 Traceback (most recent call last)",
      "\u001b[1;32m/workspaces/DAM_2/Interfaces/notebooks/practicas4.ipynb Celda 5\u001b[0m line \u001b[0;36m3\n\u001b[1;32m     <a href='vscode-notebook-cell://codespaces%2Bsymmetrical-memory-g44x4jrx95pc9j7g/workspaces/DAM_2/Interfaces/notebooks/practicas4.ipynb#W5sdnNjb2RlLXJlbW90ZQ%3D%3D?line=35'>36</a>\u001b[0m         \u001b[39mprint\u001b[39m(\u001b[39mf\u001b[39m\u001b[39m\"\u001b[39m\u001b[39m{\u001b[39;00mpersonaje\u001b[39m.\u001b[39mnombre\u001b[39m}\u001b[39;00m\u001b[39m ha ganado el juego y se ha convertido en un gran guerrero.\u001b[39m\u001b[39m\"\u001b[39m)\n\u001b[1;32m     <a href='vscode-notebook-cell://codespaces%2Bsymmetrical-memory-g44x4jrx95pc9j7g/workspaces/DAM_2/Interfaces/notebooks/practicas4.ipynb#W5sdnNjb2RlLXJlbW90ZQ%3D%3D?line=37'>38</a>\u001b[0m \u001b[39mif\u001b[39;00m \u001b[39m__name__\u001b[39m \u001b[39m==\u001b[39m \u001b[39m\"\u001b[39m\u001b[39m__main__\u001b[39m\u001b[39m\"\u001b[39m:\n\u001b[0;32m---> <a href='vscode-notebook-cell://codespaces%2Bsymmetrical-memory-g44x4jrx95pc9j7g/workspaces/DAM_2/Interfaces/notebooks/practicas4.ipynb#W5sdnNjb2RlLXJlbW90ZQ%3D%3D?line=38'>39</a>\u001b[0m     main()\n",
      "\u001b[1;32m/workspaces/DAM_2/Interfaces/notebooks/practicas4.ipynb Celda 5\u001b[0m line \u001b[0;36m3\n\u001b[1;32m      <a href='vscode-notebook-cell://codespaces%2Bsymmetrical-memory-g44x4jrx95pc9j7g/workspaces/DAM_2/Interfaces/notebooks/practicas4.ipynb#W5sdnNjb2RlLXJlbW90ZQ%3D%3D?line=0'>1</a>\u001b[0m \u001b[39mdef\u001b[39;00m \u001b[39mmain\u001b[39m():\n\u001b[1;32m      <a href='vscode-notebook-cell://codespaces%2Bsymmetrical-memory-g44x4jrx95pc9j7g/workspaces/DAM_2/Interfaces/notebooks/practicas4.ipynb#W5sdnNjb2RlLXJlbW90ZQ%3D%3D?line=1'>2</a>\u001b[0m     nombre_personaje \u001b[39m=\u001b[39m \u001b[39minput\u001b[39m(\u001b[39m\"\u001b[39m\u001b[39mIngresa el nombre de tu personaje: \u001b[39m\u001b[39m\"\u001b[39m)\n\u001b[0;32m----> <a href='vscode-notebook-cell://codespaces%2Bsymmetrical-memory-g44x4jrx95pc9j7g/workspaces/DAM_2/Interfaces/notebooks/practicas4.ipynb#W5sdnNjb2RlLXJlbW90ZQ%3D%3D?line=2'>3</a>\u001b[0m     personaje \u001b[39m=\u001b[39m Personaje(nombre_personaje)\n\u001b[1;32m      <a href='vscode-notebook-cell://codespaces%2Bsymmetrical-memory-g44x4jrx95pc9j7g/workspaces/DAM_2/Interfaces/notebooks/practicas4.ipynb#W5sdnNjb2RlLXJlbW90ZQ%3D%3D?line=4'>5</a>\u001b[0m     enemigos \u001b[39m=\u001b[39m [Enemigo(\u001b[39m\"\u001b[39m\u001b[39mOrco\u001b[39m\u001b[39m\"\u001b[39m), Enemigo(\u001b[39m\"\u001b[39m\u001b[39mShawk\u001b[39m\u001b[39m\"\u001b[39m), Enemigo(\u001b[39m\"\u001b[39m\u001b[39mDrago\u001b[39m\u001b[39m\"\u001b[39m)]\n\u001b[1;32m      <a href='vscode-notebook-cell://codespaces%2Bsymmetrical-memory-g44x4jrx95pc9j7g/workspaces/DAM_2/Interfaces/notebooks/practicas4.ipynb#W5sdnNjb2RlLXJlbW90ZQ%3D%3D?line=6'>7</a>\u001b[0m     \u001b[39mwhile\u001b[39;00m personaje\u001b[39m.\u001b[39mesta_vivo():\n",
      "\u001b[0;31mNameError\u001b[0m: name 'Personaje' is not defined"
     ]
    }
   ],
   "source": [
    "def main():\n",
    "    nombre_personaje = input(\"Ingresa el nombre de tu personaje: \")\n",
    "    personaje = Personaje(nombre_personaje)\n",
    "\n",
    "    enemigos = [Enemigo(\"Orco\"), Enemigo(\"Shawk\"), Enemigo(\"Drago\")]\n",
    "\n",
    "    while personaje.esta_vivo():\n",
    "        enemigo = random.choice(enemigos)\n",
    "        print(f\"\\nTe encuentras con un {enemigo.nombre} enemigo.\")\n",
    "\n",
    "        while enemigo.esta_vivo() and personaje.esta_vivo():\n",
    "            print(\"\\nEstado actual:\")\n",
    "            personaje.mostrar_estado()\n",
    "            enemigo.mostrar_estado()\n",
    "\n",
    "            accion = input(\"¿Qué deseas hacer? (atacar/huir): \").lower()\n",
    "\n",
    "            if accion == \"atacar\":\n",
    "                personaje.atacar(enemigo)\n",
    "                if enemigo.esta_vivo():\n",
    "                    enemigo.atacar(personaje)\n",
    "            elif accion == \"huir\":\n",
    "                print(\"Escapas del combate.\")\n",
    "                break\n",
    "            else:\n",
    "                print(\"Acción no válida. Ingresa 'atacar' o 'huir'.\")\n",
    "        if enemigo.vida <= 0:\n",
    "            experiencia_ganada = random.randint(10, 20)\n",
    "            personaje.ganar_experiencia(experiencia_ganada)\n",
    "            print(f\"Has derrotado al {enemigo.nombre} enemigo y ganado {experiencia_ganada} puntos de experiencia.\")\n",
    "        else:\n",
    "            print(\"Has sido derrotado por el {enemigo.nombre} enemigo.\")\n",
    "\n",
    "    print(\"\\nEl juego ha terminado.\")\n",
    "    if personaje.experiencia >= 50:\n",
    "        print(f\"{personaje.nombre} ha ganado el juego y se ha convertido en un gran guerrero.\")\n",
    "        \n",
    "if __name__ == \"__main__\":\n",
    "    main()"
   ]
  }
 ],
 "metadata": {
  "kernelspec": {
   "display_name": "Python 3 (ipykernel)",
   "language": "python",
   "name": "python3"
  },
  "language_info": {
   "codemirror_mode": {
    "name": "ipython",
    "version": 3
   },
   "file_extension": ".py",
   "mimetype": "text/x-python",
   "name": "python",
   "nbconvert_exporter": "python",
   "pygments_lexer": "ipython3",
   "version": "3.10.8"
  },
  "orig_nbformat": 4
 },
 "nbformat": 4,
 "nbformat_minor": 2
}
