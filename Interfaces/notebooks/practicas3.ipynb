{
 "cells": [
  {
   "cell_type": "markdown",
   "id": "9989a3ef-2c36-4fd3-a5ce-288e39468e5c",
   "metadata": {},
   "source": [
    "## <b>Listas, tuplas y diccionarios</b>\n",
    "---"
   ]
  },
  {
   "cell_type": "raw",
   "id": "c2178250-15a4-44aa-ac05-1a064dbf7186",
   "metadata": {},
   "source": [
    "1. Crea una lista de N elementos, dato que se pide por teclado, y a continuación llene de números enteros aleatorios entre 1 y 10.\n",
    "Posteriormente mostrar la lista y el número que más se repite."
   ]
  },
  {
   "cell_type": "code",
   "execution_count": 4,
   "id": "e35e40e4-9168-435b-83fc-460b0bc0de8c",
   "metadata": {
    "tags": []
   },
   "outputs": [
    {
     "name": "stdout",
     "output_type": "stream",
     "text": [
      "[7, 6, 10, 5, 3, 7, 3, 7, 1, 2, 4, 7, 6, 3, 5, 10, 2, 4, 4, 4]\n",
      "Numero mas repetido: 7\n"
     ]
    }
   ],
   "source": [
    "import random\n",
    "\n",
    "lista = []\n",
    "\n",
    "n = input('Indique cantidad de elementos:')\n",
    "\n",
    "for i in range(int(n)):\n",
    "    num = random.randint(1,10)\n",
    "    lista.append(num)\n",
    "\n",
    "print(lista)\n",
    "\n",
    "mvp = max(lista, key = lista.count)\n",
    "\n",
    "print('Numero mas repetido:', mvp)"
   ]
  },
  {
   "cell_type": "raw",
   "id": "52942850-9705-41d4-8811-807891143328",
   "metadata": {},
   "source": [
    "2. Almacenar en dos tuplas los nombres de 5 empleados o empleadas de una empresa y de sus salarios, respectivamente. A continuación:\n",
    "    1. Mostrar la tupla de los nombres y la tupla de los salarios.\n",
    "    2. Mostrar el nombre de los empleados con mayor y de menor salario."
   ]
  },
  {
   "cell_type": "code",
   "execution_count": 1,
   "id": "c2bea107-42ad-4e7d-853d-05e00c0e7adc",
   "metadata": {
    "tags": []
   },
   "outputs": [
    {
     "name": "stdout",
     "output_type": "stream",
     "text": [
      "('Juan', 'Ignacio', 'Cristian', 'Zaira', 'Dani')\n",
      "(1500, 1000, 1200, 700, 1000)\n",
      "\n",
      "Empleado: Juan - 1500 €\n"
     ]
    }
   ],
   "source": [
    "empleados = ('Juan', 'Ignacio', 'Cristian', 'Zaira', 'Dani')\n",
    "salarios = (1500, 1000, 1200, 700, 1000)\n",
    "\n",
    "salario_max = max(salarios)\n",
    "count = 0\n",
    "\n",
    "for i in salarios:\n",
    "    if i == salario_max:\n",
    "        empleado_max = empleados[count]\n",
    "    count += 1\n",
    "\n",
    "print(empleados)\n",
    "print(salarios)\n",
    "print()\n",
    "print('Empleado:',empleado_max, '-', salario_max,'€')"
   ]
  },
  {
   "cell_type": "raw",
   "id": "01493504-dede-4f55-9fc2-458be0924d91",
   "metadata": {},
   "source": [
    "3. Codifique una función que reciba una cantidad de N iteraciones solicitadas por teclado donde cada una represente la suma de una tirada de 2 dados.\n",
    "Luego guarda los resultados en un diccionario de la siguiente manera:\n",
    "    Resultado = {'Dos': 3, 'Tres': 1, ..., 'Doce': 3}\n",
    "Donde 3, 1 y 4 representan el número de veces que se genera cada valor. Mostrar por pantalla."
   ]
  },
  {
   "cell_type": "code",
   "execution_count": 11,
   "id": "e293e09a-e11f-4ea4-9cd3-a1566d5c6251",
   "metadata": {},
   "outputs": [
    {
     "name": "stdout",
     "output_type": "stream",
     "text": [
      "Dado: 1\n",
      "Dado: 2\n",
      "Dado: 2\n",
      "Dado: 3\n",
      "Dado: 4\n",
      "Dado: 4\n",
      "Dado: 5\n",
      "Dado: 6\n",
      "Dado: 7\n",
      "Dado: 8\n",
      "{'1': 1, '2': 2, '3': 1, '4': 2, '5': 1, '6': 1, '7': 1, '8': 1}\n"
     ]
    }
   ],
   "source": [
    "def tirada_dado(resultado, tirada):\n",
    "  print(\"Dado:\", tirada)\n",
    "  if tirada in resultado:\n",
    "    resultado[tirada] += 1\n",
    "  else:\n",
    "    resultado[tirada] = 1\n",
    "\n",
    "resultado = {}\n",
    "n = input('Indique cantidad de tiradas:')\n",
    "for i in range(int(n)):\n",
    "  tirada = input('Indique valor de tirada:')\n",
    "  tirada_dado(resultado, tirada)\n",
    "\n",
    "print(resultado)"
   ]
  }
 ],
 "metadata": {
  "kernelspec": {
   "display_name": "Python 3 (ipykernel)",
   "language": "python",
   "name": "python3"
  },
  "language_info": {
   "codemirror_mode": {
    "name": "ipython",
    "version": 3
   },
   "file_extension": ".py",
   "mimetype": "text/x-python",
   "name": "python",
   "nbconvert_exporter": "python",
   "pygments_lexer": "ipython3",
   "version": "3.10.8"
  }
 },
 "nbformat": 4,
 "nbformat_minor": 5
}
