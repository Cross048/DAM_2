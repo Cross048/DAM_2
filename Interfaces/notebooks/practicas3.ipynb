{
 "cells": [
  {
   "cell_type": "markdown",
   "id": "9989a3ef-2c36-4fd3-a5ce-288e39468e5c",
   "metadata": {},
   "source": [
    "## <b>Listas, tuplas y diccionarios</b>\n",
    "---"
   ]
  },
  {
   "cell_type": "raw",
   "id": "c2178250-15a4-44aa-ac05-1a064dbf7186",
   "metadata": {},
   "source": [
    "1. Crea una lista de N elementos, dato que se pide por teclado, y a continuación llene de números enteros aleatorios entre 1 y 10.\n",
    "Posteriormente mostrar la lista y el número que más se repite."
   ]
  },
  {
   "cell_type": "code",
   "execution_count": 22,
   "id": "e35e40e4-9168-435b-83fc-460b0bc0de8c",
   "metadata": {
    "tags": []
   },
   "outputs": [
    {
     "name": "stdin",
     "output_type": "stream",
     "text": [
      "Indique cantidad de elementos: 20\n"
     ]
    },
    {
     "name": "stdout",
     "output_type": "stream",
     "text": [
      "[2, 5, 5, 2, 5, 6, 10, 1, 9, 1, 2, 3, 1, 9, 1, 9, 3, 7, 2, 1]\n",
      "Numero mas repetido: 1\n"
     ]
    }
   ],
   "source": [
    "import random\n",
    "\n",
    "lista = []\n",
    "\n",
    "n = input('Indique cantidad de elementos:')\n",
    "\n",
    "for i in range(int(n)):\n",
    "    num = random.randint(1,10)\n",
    "    lista.append(num)\n",
    "\n",
    "print(lista)\n",
    "\n",
    "mvp = max(lista, key = lista.count)\n",
    "\n",
    "print('Numero mas repetido:', mvp)"
   ]
  },
  {
   "cell_type": "raw",
   "id": "52942850-9705-41d4-8811-807891143328",
   "metadata": {},
   "source": [
    "2. Almacenar en dos tuplas los nombres de 5 empleados o empleadas de una empresa y de sus salarios, respectivamente. A continuación:\n",
    "    1. Mostrar la tupla de los nombres y la tupla de los salarios.\n",
    "    2. Mostrar el nombre de los empleados con mayor y de menor salario."
   ]
  },
  {
   "cell_type": "code",
   "execution_count": 31,
   "id": "c2bea107-42ad-4e7d-853d-05e00c0e7adc",
   "metadata": {
    "tags": []
   },
   "outputs": [
    {
     "name": "stdout",
     "output_type": "stream",
     "text": [
      "('Juan', 'Ignacio', 'Cristian', 'Zaira', 'Dani')\n",
      "(1500, 1000, 1200, 700, 1000)\n",
      "\n",
      "Empleado: Juan - 1500 €\n"
     ]
    }
   ],
   "source": [
    "empleados = ('Juan', 'Ignacio', 'Cristian', 'Zaira', 'Dani')\n",
    "salarios = (1500, 1000, 1200, 700, 1000)\n",
    "\n",
    "salario_max = max(salarios)\n",
    "count = 0\n",
    "\n",
    "for i in salarios:\n",
    "    if i == salario_max:\n",
    "        empleado_max = empleados[count]\n",
    "    count += 1\n",
    "\n",
    "print(empleados)\n",
    "print(salarios)\n",
    "print()\n",
    "print('Empleado:',empleado_max, '-', salario_max,'€')"
   ]
  },
  {
   "cell_type": "code",
   "execution_count": null,
   "id": "7df472a8-3899-4e80-8a34-397383984dcc",
   "metadata": {},
   "outputs": [],
   "source": []
  }
 ],
 "metadata": {
  "kernelspec": {
   "display_name": "Python 3 (ipykernel)",
   "language": "python",
   "name": "python3"
  },
  "language_info": {
   "codemirror_mode": {
    "name": "ipython",
    "version": 3
   },
   "file_extension": ".py",
   "mimetype": "text/x-python",
   "name": "python",
   "nbconvert_exporter": "python",
   "pygments_lexer": "ipython3",
   "version": "3.11.3"
  }
 },
 "nbformat": 4,
 "nbformat_minor": 5
}
